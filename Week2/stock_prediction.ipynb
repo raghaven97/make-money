{
 "cells": [
  {
   "cell_type": "code",
   "execution_count": 31,
   "metadata": {
    "scrolled": false
   },
   "outputs": [
    {
     "data": {},
     "metadata": {},
     "output_type": "display_data"
    }
   ],
   "source": [
    "import pandas as pd\n",
    "import datetime\n",
    "# import pandas_datareader.data as web\n",
    "from pandas import Series, DataFrame\n",
    "%matplotlib inline\n",
    "import matplotlib.pyplot as plt\n",
    "from matplotlib import style\n",
    "import matplotlib as mpl\n",
    "\n",
    "\n",
    "# start = datetime.datetime(2010, 1, 1)\n",
    "# end = datetime.datetime(2017, 1, 11)\n",
    "\n",
    "# df = web.DataReader(\"KPITTECH.NS\", 'yahoo', start, end)\n",
    "# print(df.tail())\n",
    "\n",
    "df = pd.read_csv(\"hdfc_bank.csv\")\n",
    "\n",
    "# Drop null values \n",
    "print(df.size)\n",
    "df = df.dropna()\n",
    "# check if any more null\n",
    "# df = df[df.isna().any(axis=0)] \n",
    "\n",
    "# to make date as index and also make date string to datetime type\n",
    "df['Date'] = pd.to_datetime(df['Date'])\n",
    "df.set_index('Date')\n",
    "\n",
    "# calculate moving average\n",
    "close_px = df['Adj Close']\n",
    "mavg = close_px.rolling(window=100).mean()\n",
    "\n",
    "print(df.size)\n",
    "print(mavg.dropna().size)\n",
    "print(mavg)\n",
    "\n",
    "# plotting\n",
    "# Adjusting the size of matplotlib\n",
    "mpl.rc('figure', figsize=(8, 7))\n",
    "mpl.__version__\n",
    "\n",
    "# Adjusting the style of matplotlib\n",
    "style.use('ggplot')\n",
    "\n",
    "close_px.plot(label='HDFC BANK')\n",
    "mavg.plot(label='Moving Average')\n",
    "plt.legend()"
   ]
  }
 ],
 "metadata": {
  "kernelspec": {
   "display_name": "Python 3",
   "language": "python",
   "name": "python3"
  },
  "language_info": {
   "codemirror_mode": {
    "name": "ipython",
    "version": 3
   },
   "file_extension": ".py",
   "mimetype": "text/x-python",
   "name": "python",
   "nbconvert_exporter": "python",
   "pygments_lexer": "ipython3",
   "version": "3.7.3"
  }
 },
 "nbformat": 4,
 "nbformat_minor": 2
}
